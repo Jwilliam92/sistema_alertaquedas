{
 "cells": [
  {
   "cell_type": "code",
   "execution_count": 1,
   "metadata": {},
   "outputs": [
    {
     "name": "stdout",
     "output_type": "stream",
     "text": [
      "WARNING:tensorflow:From c:\\Users\\User\\AppData\\Local\\Programs\\Python\\Python311\\Lib\\site-packages\\keras\\src\\losses.py:2976: The name tf.losses.sparse_softmax_cross_entropy is deprecated. Please use tf.compat.v1.losses.sparse_softmax_cross_entropy instead.\n",
      "\n"
     ]
    }
   ],
   "source": [
    "from sklearn.model_selection import train_test_split\n",
    "import pandas as pd\n",
    "import numpy as np\n",
    "import tensorflow as tf\n",
    "import matplotlib.pyplot as plt\n",
    "import os\n",
    "import cv2\n",
    "from tensorflow.keras.applications import VGG16\n",
    "from tensorflow.keras import layers, models"
   ]
  },
  {
   "cell_type": "code",
   "execution_count": 3,
   "metadata": {},
   "outputs": [],
   "source": [
    "# Carregar dados de treinamento\n",
    "def load_data(images_dir, labels_dir):\n",
    "    img_files = os.listdir(images_dir)\n",
    "    img_files.sort()\n",
    "    label_files = os.listdir(labels_dir)\n",
    "    label_files.sort()\n",
    "    \n",
    "    complete_images = []\n",
    "    complete_class = []\n",
    "    for i in range(len(img_files)):\n",
    "        img = plt.imread(os.path.join(images_dir, img_files[i]))\n",
    "        with open(os.path.join(labels_dir, label_files[i]), 'r') as file:\n",
    "            r = file.readlines()\n",
    "        bounding_boxes = []\n",
    "        for j in r:\n",
    "            j = j.split()\n",
    "            bounding_boxes.append([int(j[0]), float(j[1]), float(j[2]), float(j[3]), float(j[4])])\n",
    "        for box in bounding_boxes:\n",
    "            image_height, image_width, _ = img.shape\n",
    "            xmin, ymin, width, height = box[1:]\n",
    "            xmin = int(xmin * image_width)\n",
    "            ymin = int(ymin * image_height)\n",
    "            width = int(width * image_width)\n",
    "            height = int(height * image_height)\n",
    "            complete_class.append(box[0])\n",
    "            complete_images.append(img[ymin-height//2:ymin+height//2, xmin-width//2:xmin+width//2])\n",
    "    \n",
    "    pref_size = (128, 128)\n",
    "    for i in range(len(complete_images)):\n",
    "        complete_images[i] = cv2.resize(complete_images[i], pref_size)\n",
    "    \n",
    "    df = pd.DataFrame()\n",
    "    df['Images'] = complete_images\n",
    "    df['Class'] = complete_class\n",
    "    df['Images'] /= 255.0  # Normalizar as imagens\n",
    "    \n",
    "    return df"
   ]
  },
  {
   "cell_type": "code",
   "execution_count": 4,
   "metadata": {},
   "outputs": [],
   "source": [
    "# Carregar dados de treinamento e validação\n",
    "train_data = load_data('fall_dataset/images/train',\n",
    "                       'fall_dataset/labels/train')\n",
    "X_train, X_val, y_train, y_val = train_test_split(train_data['Images'].values,\n",
    "                                                  train_data['Class'].values,\n",
    "                                                  test_size=0.2,\n",
    "                                                  random_state=42)"
   ]
  },
  {
   "cell_type": "code",
   "execution_count": 6,
   "metadata": {},
   "outputs": [],
   "source": [
    "# Carregar dados de teste\n",
    "test_data = load_data('fall_dataset/images/val',\n",
    "                      'fall_dataset/labels/val')\n",
    "X_test, y_test = test_data['Images'].values, test_data['Class'].values\n"
   ]
  },
  {
   "cell_type": "code",
   "execution_count": 16,
   "metadata": {},
   "outputs": [],
   "source": [
    "# Converter os arrays numpy em tensores\n",
    "X_test_tensor = tf.convert_to_tensor(np.stack(X_test), dtype=tf.float32)\n",
    "y_test_tensor = tf.convert_to_tensor(y_test, dtype=tf.float32)"
   ]
  },
  {
   "cell_type": "code",
   "execution_count": 17,
   "metadata": {},
   "outputs": [],
   "source": [
    "# Definir a arquitetura da CNN\n",
    "base_model = VGG16(weights='imagenet', include_top=False, input_shape=(128, 128, 3))\n",
    "for layer in base_model.layers:\n",
    "    layer.trainable = False\n",
    "\n",
    "model = models.Sequential()\n",
    "model.add(base_model)\n",
    "model.add(layers.Flatten())\n",
    "model.add(layers.Dense(256, activation='relu'))\n",
    "model.add(layers.Dropout(0.5))\n",
    "model.add(layers.Dense(3, activation='softmax'))  # Mudar para 1 se for binária\n",
    "\n",
    "model.compile(optimizer='adam', loss='sparse_categorical_crossentropy', metrics=['accuracy'])"
   ]
  },
  {
   "cell_type": "code",
   "execution_count": 18,
   "metadata": {},
   "outputs": [
    {
     "name": "stdout",
     "output_type": "stream",
     "text": [
      "Epoch 1/20\n",
      "12/12 [==============================] - 38s 3s/step - loss: 1.3861 - accuracy: 0.5276 - val_loss: 0.9264 - val_accuracy: 0.5495\n",
      "Epoch 2/20\n",
      "12/12 [==============================] - 49s 4s/step - loss: 0.5660 - accuracy: 0.7790 - val_loss: 0.5520 - val_accuracy: 0.7802\n",
      "Epoch 3/20\n",
      "12/12 [==============================] - 37s 3s/step - loss: 0.3469 - accuracy: 0.8646 - val_loss: 0.5693 - val_accuracy: 0.7253\n",
      "Epoch 4/20\n",
      "12/12 [==============================] - 29s 2s/step - loss: 0.2062 - accuracy: 0.9227 - val_loss: 0.4919 - val_accuracy: 0.7363\n",
      "Epoch 5/20\n",
      "12/12 [==============================] - 31s 3s/step - loss: 0.1707 - accuracy: 0.9365 - val_loss: 0.4928 - val_accuracy: 0.7582\n",
      "Epoch 6/20\n",
      "12/12 [==============================] - 30s 3s/step - loss: 0.1256 - accuracy: 0.9641 - val_loss: 0.5246 - val_accuracy: 0.7473\n",
      "Epoch 7/20\n",
      "12/12 [==============================] - 30s 3s/step - loss: 0.0968 - accuracy: 0.9669 - val_loss: 0.4501 - val_accuracy: 0.7802\n",
      "Epoch 8/20\n",
      "12/12 [==============================] - 30s 3s/step - loss: 0.0822 - accuracy: 0.9751 - val_loss: 0.5010 - val_accuracy: 0.7912\n",
      "Epoch 9/20\n",
      "12/12 [==============================] - 30s 3s/step - loss: 0.0627 - accuracy: 0.9862 - val_loss: 0.4906 - val_accuracy: 0.7582\n",
      "Epoch 10/20\n",
      "12/12 [==============================] - 29s 2s/step - loss: 0.0465 - accuracy: 0.9917 - val_loss: 0.4374 - val_accuracy: 0.7802\n",
      "Epoch 11/20\n",
      "12/12 [==============================] - 30s 3s/step - loss: 0.0379 - accuracy: 0.9890 - val_loss: 0.4880 - val_accuracy: 0.7802\n",
      "Epoch 12/20\n",
      "12/12 [==============================] - 29s 2s/step - loss: 0.0435 - accuracy: 0.9890 - val_loss: 0.4837 - val_accuracy: 0.7802\n",
      "Epoch 13/20\n",
      "12/12 [==============================] - 31s 3s/step - loss: 0.0366 - accuracy: 0.9945 - val_loss: 0.4703 - val_accuracy: 0.7692\n",
      "Epoch 14/20\n",
      "12/12 [==============================] - 29s 2s/step - loss: 0.0302 - accuracy: 0.9972 - val_loss: 0.5130 - val_accuracy: 0.7802\n",
      "Epoch 15/20\n",
      "12/12 [==============================] - 28s 2s/step - loss: 0.0244 - accuracy: 0.9972 - val_loss: 0.4908 - val_accuracy: 0.8022\n",
      "Epoch 16/20\n",
      "12/12 [==============================] - 28s 2s/step - loss: 0.0148 - accuracy: 1.0000 - val_loss: 0.4943 - val_accuracy: 0.8022\n",
      "Epoch 17/20\n",
      "12/12 [==============================] - 29s 2s/step - loss: 0.0134 - accuracy: 1.0000 - val_loss: 0.5206 - val_accuracy: 0.7912\n",
      "Epoch 18/20\n",
      "12/12 [==============================] - 28s 2s/step - loss: 0.0169 - accuracy: 1.0000 - val_loss: 0.5237 - val_accuracy: 0.7802\n",
      "Epoch 19/20\n",
      "12/12 [==============================] - 28s 2s/step - loss: 0.0121 - accuracy: 1.0000 - val_loss: 0.5137 - val_accuracy: 0.7802\n",
      "Epoch 20/20\n",
      "12/12 [==============================] - 28s 2s/step - loss: 0.0076 - accuracy: 1.0000 - val_loss: 0.5480 - val_accuracy: 0.7692\n"
     ]
    }
   ],
   "source": [
    "# Converter os arrays numpy em tensores\n",
    "X_train_tensor = tf.convert_to_tensor(np.stack(X_train), dtype=tf.float32)\n",
    "y_train_tensor = tf.convert_to_tensor(y_train, dtype=tf.float32)\n",
    "X_val_tensor = tf.convert_to_tensor(np.stack(X_val), dtype=tf.float32)\n",
    "y_val_tensor = tf.convert_to_tensor(y_val, dtype=tf.float32)\n",
    "\n",
    "# Treinar o modelo\n",
    "history = model.fit(X_train_tensor, y_train_tensor, epochs=20, validation_data=(X_val_tensor, y_val_tensor))\n"
   ]
  },
  {
   "cell_type": "code",
   "execution_count": 20,
   "metadata": {},
   "outputs": [],
   "source": [
    "model.save('quedas.keras')\n"
   ]
  },
  {
   "cell_type": "code",
   "execution_count": 21,
   "metadata": {},
   "outputs": [
    {
     "name": "stdout",
     "output_type": "stream",
     "text": [
      "4/4 [==============================] - 8s 2s/step - loss: 0.6348 - accuracy: 0.7719\n"
     ]
    },
    {
     "data": {
      "text/plain": [
       "[0.6348479390144348, 0.7719298005104065]"
      ]
     },
     "execution_count": 21,
     "metadata": {},
     "output_type": "execute_result"
    }
   ],
   "source": [
    "# Avaliar o modelo no conjunto de teste\n",
    "model.evaluate(X_test_tensor, y_test_tensor)"
   ]
  }
 ],
 "metadata": {
  "kernelspec": {
   "display_name": ".venv",
   "language": "python",
   "name": "python3"
  },
  "language_info": {
   "codemirror_mode": {
    "name": "ipython",
    "version": 3
   },
   "file_extension": ".py",
   "mimetype": "text/x-python",
   "name": "python",
   "nbconvert_exporter": "python",
   "pygments_lexer": "ipython3",
   "version": "3.11.0b4"
  }
 },
 "nbformat": 4,
 "nbformat_minor": 2
}
